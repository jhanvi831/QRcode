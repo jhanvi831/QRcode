{
 "cells": [
  {
   "cell_type": "code",
   "execution_count": 6,
   "metadata": {},
   "outputs": [],
   "source": [
    "import pandas as pd\n",
    "import qrcode"
   ]
  },
  {
   "cell_type": "code",
   "execution_count": 7,
   "metadata": {},
   "outputs": [],
   "source": [
    "#add the string you want to convert to QRcode\n",
    "data = \"Hello! This is a QRcode generator\"\n",
    "\n",
    "#making qrcode\n",
    "img = qrcode.make(data)\n",
    "\n",
    "#saving the generated QRcode\n",
    "img.save('welcome.png')"
   ]
  },
  {
   "cell_type": "code",
   "execution_count": 8,
   "metadata": {},
   "outputs": [
    {
     "data": {
      "text/plain": [
       "'Hello! This is a QRcode generator'"
      ]
     },
     "execution_count": 8,
     "metadata": {},
     "output_type": "execute_result"
    }
   ],
   "source": [
    "#to read the QRcode generated\n",
    "import cv2\n",
    "\n",
    "d = cv2.QRCodeDetector()\n",
    "\n",
    "val, points, straight_qrcode = d.detectAndDecode(cv2.imread(\"welcome.png\"))\n",
    "\n",
    "val"
   ]
  }
 ],
 "metadata": {
  "kernelspec": {
   "display_name": "Python 3",
   "language": "python",
   "name": "python3"
  },
  "language_info": {
   "codemirror_mode": {
    "name": "ipython",
    "version": 3
   },
   "file_extension": ".py",
   "mimetype": "text/x-python",
   "name": "python",
   "nbconvert_exporter": "python",
   "pygments_lexer": "ipython3",
   "version": "3.7.3"
  }
 },
 "nbformat": 4,
 "nbformat_minor": 2
}
